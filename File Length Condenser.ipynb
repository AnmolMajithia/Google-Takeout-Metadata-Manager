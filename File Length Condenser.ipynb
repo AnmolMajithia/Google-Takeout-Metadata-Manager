{
 "cells": [
  {
   "cell_type": "code",
   "execution_count": null,
   "metadata": {},
   "outputs": [],
   "source": [
    "import os"
   ]
  },
  {
   "cell_type": "code",
   "execution_count": null,
   "metadata": {},
   "outputs": [],
   "source": [
    "data = os.listdir('data')"
   ]
  },
  {
   "cell_type": "code",
   "execution_count": null,
   "metadata": {},
   "outputs": [],
   "source": [
    "ren = int(input('Enter last index + 1 to avoid overwriting like a dumb idiot : '))\n",
    "for i in data:\n",
    "    if i.endswith('json'):\n",
    "        query = i[:i.find('.')]\n",
    "        for j in data:\n",
    "            if query in j and j.lower().endswith('jpg'):\n",
    "                try:\n",
    "                    os.rename('data/'+j, 'todo/img_'+str(ren)+'.jpg')\n",
    "                    os.rename('data/'+i, 'todo/img_'+str(ren)+'.jpg.json')\n",
    "                except:\n",
    "                    print('Exception!')\n",
    "                    ren += 1\n",
    "                ren += 1\n",
    "                print(ren)\n",
    "                break"
   ]
  },
  {
   "cell_type": "code",
   "execution_count": null,
   "metadata": {},
   "outputs": [],
   "source": []
  }
 ],
 "metadata": {
  "kernelspec": {
   "display_name": "Python 3",
   "language": "python",
   "name": "python3"
  },
  "language_info": {
   "codemirror_mode": {
    "name": "ipython",
    "version": 3
   },
   "file_extension": ".py",
   "mimetype": "text/x-python",
   "name": "python",
   "nbconvert_exporter": "python",
   "pygments_lexer": "ipython3",
   "version": "3.8.5"
  }
 },
 "nbformat": 4,
 "nbformat_minor": 4
}
